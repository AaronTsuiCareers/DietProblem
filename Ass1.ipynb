{
 "cells": [
  {
   "cell_type": "code",
   "execution_count": 86,
   "id": "189557b2-c4cd-4caf-8c52-e02c1b76fb58",
   "metadata": {},
   "outputs": [],
   "source": [
    "from pulp import LpProblem, LpMinimize, LpVariable, lpSum\n",
    "import math"
   ]
  },
  {
   "cell_type": "code",
   "execution_count": 96,
   "id": "7428787c-4f01-4611-9f50-4de415419323",
   "metadata": {},
   "outputs": [],
   "source": [
    "# Solution\n",
    "prob = LpProblem(\"Diet_Optimization\", LpMinimize)\n",
    "\n",
    "x1 = LpVariable(\"Yogurt\", lowBound=0)  # low-fat yogurt\n",
    "x2 = LpVariable(\"Prosciutto\", lowBound=0)  # prosciutto\n",
    "x3 = LpVariable(\"Tomatoes\", lowBound=0)  # tomatoes\n",
    "x4 = LpVariable(\"Zucchini\", lowBound=0)  # zucchini\n",
    "x5 = LpVariable(\"Salmon\", lowBound=0)  # salmon\n",
    "\n",
    "# cost coeffs\n",
    "cost = [1.89, 1.10, 0.99, 1.29, 4.42]\n",
    "\n",
    "# objective func\n",
    "prob += lpSum([cost[0]*x1, cost[1]*x2, cost[2]*x3, cost[3]*x4, cost[4]*x5]), \"Total_Cost\"\n",
    "\n",
    "# constraints\n",
    "prob += 115*x1 + 546*x2 + 9*x3 + 26*x4 + 117*x5 <= 5000, \"Sodium\"\n",
    "prob += 170*x1 + 70*x2 + 33*x3 + 55*x4 + 412*x5 >= 2000, \"Calories\"\n",
    "prob += 20*x1 + 9*x2 + 2*x3 + 4*x4 + 40*x5 >= 50, \"Protein\"\n",
    "prob += 0*x1 + 0*x2 + 0*x3 + 0*x4 + 22*x5 >= 20, \"Vitamin_D\"\n",
    "prob += 320*x1 + 0*x2 + 18*x3 + 52*x4 + 18*x5 >= 1300, \"Calcium\"\n",
    "prob += 0*x1 + 1*x2 + 0.5*x3 + 2*x4 + 1*x5 >= 18, \"Iron\"\n",
    "prob += 430*x1 + 0*x2 + 431*x3 + 843*x4 + 719*x5 >= 4700, \"Potassium\""
   ]
  },
  {
   "cell_type": "code",
   "execution_count": 97,
   "id": "74585521-b9c9-4685-8d80-38abce016fb0",
   "metadata": {},
   "outputs": [
    {
     "name": "stdout",
     "output_type": "stream",
     "text": [
      "Daily Solution: {'Prosciutto': 0.0, 'Salmon': 2.7344051, 'Tomatoes': 0.0, 'Yogurt': 2.6683601, 'Zucchini': 7.6327974}\n",
      "Weekly Total cost: 188.829058439\n"
     ]
    }
   ],
   "source": [
    "prob.solve()\n",
    "solution = {v.name: v.varValue for v in prob.variables()}\n",
    "total_cost = prob.objective.value()\n",
    "\n",
    "print(\"Daily Solution:\", solution)\n",
    "print(\"Weekly Total cost:\", total_cost*7)"
   ]
  },
  {
   "cell_type": "code",
   "execution_count": 98,
   "id": "07f074e4-26cb-4135-a578-1950944d1f5a",
   "metadata": {},
   "outputs": [],
   "source": [
    "# $26.97 minimized daily cost\n",
    "# $188.83 minimized weekly cost"
   ]
  },
  {
   "cell_type": "code",
   "execution_count": 99,
   "id": "9a67cebf-e247-4f90-94b0-4a4bc134eaa0",
   "metadata": {},
   "outputs": [
    {
     "name": "stdout",
     "output_type": "stream",
     "text": [
      "Daily Solution: {'x1b_Yogurt': 2.6770653, 'x2b_Prosciutto': 0.14285714, 'x3b_Tomatoes': 0.14285714, 'x4b_Zucchini': 7.5390503, 'x5b_Salmon': 2.7076137}\n",
      "Weekly Total cost: 189.35876596420002\n"
     ]
    }
   ],
   "source": [
    "# Solution 2\n",
    "prob2 = LpProblem(\"Diet_Optimization\", LpMinimize)\n",
    "\n",
    "x1b = LpVariable(\"x1b_Yogurt\", lowBound=0.14285714) # .14285714 = 1/7\n",
    "x2b = LpVariable(\"x2b_Prosciutto\", lowBound=0.14285714)\n",
    "x3b = LpVariable(\"x3b_Tomatoes\", lowBound=0.14285714)\n",
    "x4b = LpVariable(\"x4b_Zucchini\", lowBound=0.14285714)\n",
    "x5b = LpVariable(\"x5b_Salmon\", lowBound=0.14285714)\n",
    "\n",
    "cost = [1.89, 1.10, 0.99, 1.29, 4.42]\n",
    "\n",
    "prob2 += lpSum([cost[0]*x1b, cost[1]*x2b, cost[2]*x3b, cost[3]*x4b, cost[4]*x5b]), \"Total_Cost\"\n",
    "\n",
    "prob2 += 115*x1b + 546*x2b + 9*x3b + 26*x4b + 117*x5b <= 5000, \"Sodium\"\n",
    "prob2 += 170*x1b + 70*x2b + 33*x3b + 55*x4b + 412*x5b >= 2000, \"Calories\"\n",
    "prob2 += 20*x1b + 9*x2b + 2*x3b + 4*x4b + 40*x5b >= 50, \"Protein\"\n",
    "prob2 += 0*x1b + 0*x2b + 0*x3b + 0*x4b + 22*x5b >= 20, \"Vitamin_D\"\n",
    "prob2 += 320*x1b + 0*x2b + 18*x3b + 52*x4b + 18*x5b >= 1300, \"Calcium\"\n",
    "prob2 += 0*x1b + 1*x2b + 0.5*x3b + 2*x4b + 1*x5b >= 18, \"Iron\"\n",
    "prob2 += 430*x1b + 0*x2b + 431*x3b + 843*x4b + 719*x5b >= 4700, \"Potassium\"\n",
    "\n",
    "prob2.solve()\n",
    "solution = {v.name: v.varValue for v in prob2.variables()}\n",
    "total_cost = prob2.objective.value()\n",
    "\n",
    "print(\"Daily Solution:\", solution)\n",
    "print(\"Weekly Total cost:\", total_cost*7)"
   ]
  },
  {
   "cell_type": "code",
   "execution_count": 100,
   "id": "20c500ce-b778-45a9-bedc-e54fb406fa1b",
   "metadata": {},
   "outputs": [],
   "source": [
    "# $189.35 minimized weekly cost (min. 1 serving for each food during the week)\n",
    "\n",
    "# I have to spend $0.52 more than optimal for minimum 1 serving of each food during the week."
   ]
  },
  {
   "cell_type": "code",
   "execution_count": 101,
   "id": "e451aafc-d0f1-4ff3-bb60-fe7dbbfb824d",
   "metadata": {},
   "outputs": [
    {
     "name": "stdout",
     "output_type": "stream",
     "text": [
      "Daily Solution: {'x1c_Yogurt': 2.7292966, 'x2c_Prosciutto': 1.0, 'x3c_Tomatoes': 1.0, 'x4c_Zucchini': 6.9765675, 'x5c_Salmon': 2.546865}\n",
      "Weekly Total cost: 192.537001643\n"
     ]
    }
   ],
   "source": [
    "# I could add further variety to my diet by adding Fiber, Vitamin C, and other nutrients as constraints. \n",
    "# I could also require minimum 7 servings every week, one for each day:\n",
    "prob3 = LpProblem(\"Diet_Optimization\", LpMinimize)\n",
    "\n",
    "x1c = LpVariable(\"x1c_Yogurt\", lowBound=1)\n",
    "x2c = LpVariable(\"x2c_Prosciutto\", lowBound=1)\n",
    "x3c = LpVariable(\"x3c_Tomatoes\", lowBound=1)\n",
    "x4c = LpVariable(\"x4c_Zucchini\", lowBound=1)\n",
    "x5c = LpVariable(\"x5c_Salmon\", lowBound=1)\n",
    "\n",
    "cost = [1.89, 1.10, 0.99, 1.29, 4.42]\n",
    "\n",
    "prob3 += lpSum([cost[0]*x1c, cost[1]*x2c, cost[2]*x3c, cost[3]*x4c, cost[4]*x5c]), \"Total_Cost\"\n",
    "\n",
    "prob3 += 115*x1c + 546*x2c + 9*x3c + 26*x4c + 117*x5c <= 5000, \"Sodium\"\n",
    "prob3 += 170*x1c + 70*x2c + 33*x3c + 55*x4c + 412*x5c >= 2000, \"Calories\"\n",
    "prob3 += 20*x1c + 9*x2c + 2*x3c + 4*x4c + 40*x5c >= 50, \"Protein\"\n",
    "prob3 += 0*x1c + 0*x2c + 0*x3c + 0*x4c + 22*x5c >= 20, \"Vitamin_D\"\n",
    "prob3 += 320*x1c + 0*x2c + 18*x3c + 52*x4c + 18*x5c >= 1300, \"Calcium\"\n",
    "prob3 += 0*x1c + 1*x2c + 0.5*x3c + 2*x4c + 1*x5c >= 18, \"Iron\"\n",
    "prob3 += 430*x1c + 0*x2c + 431*x3c + 843*x4c + 719*x5c >= 4700, \"Potassium\"\n",
    "\n",
    "prob3.solve()\n",
    "\n",
    "solution = {v.name: v.varValue for v in prob3.variables()}\n",
    "total_cost = prob3.objective.value()\n",
    "\n",
    "print(\"Daily Solution:\", solution)\n",
    "print(\"Weekly Total cost:\", total_cost*7)"
   ]
  },
  {
   "cell_type": "code",
   "execution_count": 102,
   "id": "dc09d0a5-8d66-4a07-b25e-431ad1789b0b",
   "metadata": {},
   "outputs": [],
   "source": [
    "# $192.54 minimized weekly cost (min. 7 servings for each food during the week)\n",
    "\n",
    "# I have to spend $3.75 more than optimal for minimum 1 serving of each food during the week."
   ]
  },
  {
   "cell_type": "code",
   "execution_count": null,
   "id": "6c960421-1bd5-4fe1-98c6-2637d7779a5b",
   "metadata": {},
   "outputs": [],
   "source": []
  }
 ],
 "metadata": {
  "kernelspec": {
   "display_name": "Python 3 (ipykernel)",
   "language": "python",
   "name": "python3"
  },
  "language_info": {
   "codemirror_mode": {
    "name": "ipython",
    "version": 3
   },
   "file_extension": ".py",
   "mimetype": "text/x-python",
   "name": "python",
   "nbconvert_exporter": "python",
   "pygments_lexer": "ipython3",
   "version": "3.11.7"
  }
 },
 "nbformat": 4,
 "nbformat_minor": 5
}
